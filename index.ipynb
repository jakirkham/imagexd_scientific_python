{
 "cells": [
  {
   "cell_type": "markdown",
   "metadata": {},
   "source": [
    "# ImageXD scientific Python & image processing tutorial"
   ]
  },
  {
   "cell_type": "markdown",
   "metadata": {},
   "source": [
    "Please refresh the lecture materials:"
   ]
  },
  {
   "cell_type": "code",
   "execution_count": null,
   "metadata": {},
   "outputs": [],
   "source": [
    "!git pull"
   ]
  },
  {
   "cell_type": "markdown",
   "metadata": {},
   "source": [
    "Now proceed to the required lecture:"
   ]
  },
  {
   "cell_type": "markdown",
   "metadata": {},
   "source": [
    "- **9:30–9:35**: Introduction\n",
    "- **9:35–10:10**: [NumPy](numpy/numpy.ipynb)\n",
    "- **10:10–10:30**: [Images are arrays & matplotlib](images_are_arrays.ipynb)\n",
    "- **10:30–10:50**: [SciPy](scipy.ipynb)\n",
    "- **10:50–11:30**: [scikit-image](skimage/0_introduction.ipynb)"
   ]
  },
  {
   "cell_type": "markdown",
   "metadata": {},
   "source": [
    "For further adventures in Scientific Python land:\n",
    "\n",
    "- https://scipy-lectures.org\n",
    "- https://github.com/elegant-scipy/elegant-scipy"
   ]
  },
  {
   "cell_type": "code",
   "execution_count": 1,
   "metadata": {},
   "outputs": [
    {
     "name": "stdout",
     "output_type": "stream",
     "text": [
      "[✓] scikit-image  0.13.1\n",
      "[✓] numpy         1.14.2\n",
      "[✓] scipy         1.0.0\n",
      "[✓] matplotlib    2.2.2\n",
      "[✓] notebook      5.4.1\n",
      "[✓] scikit-learn  0.19.1\n"
     ]
    }
   ],
   "source": [
    "%run check_setup.py"
   ]
  },
  {
   "cell_type": "code",
   "execution_count": null,
   "metadata": {},
   "outputs": [],
   "source": []
  }
 ],
 "metadata": {
  "kernelspec": {
   "display_name": "Python 3",
   "language": "python",
   "name": "python3"
  },
  "language_info": {
   "codemirror_mode": {
    "name": "ipython",
    "version": 3
   },
   "file_extension": ".py",
   "mimetype": "text/x-python",
   "name": "python",
   "nbconvert_exporter": "python",
   "pygments_lexer": "ipython3",
   "version": "3.6.4"
  },
  "toc": {
   "base_numbering": 1,
   "nav_menu": {},
   "number_sections": true,
   "sideBar": true,
   "skip_h1_title": false,
   "title_cell": "Table of Contents",
   "title_sidebar": "Contents",
   "toc_cell": false,
   "toc_position": {},
   "toc_section_display": true,
   "toc_window_display": false
  }
 },
 "nbformat": 4,
 "nbformat_minor": 2
}
